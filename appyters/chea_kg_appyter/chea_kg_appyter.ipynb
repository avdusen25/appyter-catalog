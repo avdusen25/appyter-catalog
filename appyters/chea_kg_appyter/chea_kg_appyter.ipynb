{
 "cells": [
  {
   "cell_type": "code",
   "execution_count": null,
   "source": [
    "#%%appyter init\n",
    "from appyter import magic\n",
    "magic.init(lambda _=globals: _())"
   ],
   "outputs": [],
   "metadata": {}
  },
  {
   "cell_type": "markdown",
   "source": [
    "# ChEA-KG_Appyter\n",
    "\n",
    "The ChEA-KG Appyter predicts regulatory subnetworks of transcription factors (TFs) for an input gene set. The query gene sets are compared against libaries of TF target gene sets in ChEA3 to identify the most likely regulating TFs. The TFs are then connected via edges in the ChEA-KG background gene regulatory network (GRN). This network was constructed by submitting thousands of gene expression signatures from RummaGEO to ChEA3 for transcription factor enrichment analysis. The functions of enriched TFs are predicted using the Gene Set Foundation Model. Automatic summaries of each subnetwork are produced using Google Gemini."
   ],
   "metadata": {}
  },
  {
   "cell_type": "code",
   "execution_count": null,
   "source": [
    "%%appyter hide_code\n",
    "\n",
    "{% do SectionField(\n",
    "  name='primary',\n",
    "  title=\"ChEA-KG_Appyter\",\n",
    "  subtitle=\"The ChEA-KG Appyter predicts regulatory subnetworks of transcription factors (TFs) for an input gene set. The query gene sets are compared against libaries of TF target gene sets in ChEA3 to identify the most likely regulating TFs. The TFs are then connected via edges in the ChEA-KG background gene regulatory network (GRN). This network was constructed by submitting thousands of gene expression signatures from RummaGEO to ChEA3 for transcription factor enrichment analysis. The functions of enriched TFs are predicted using the Gene Set Foundation Model. Automatic summaries of each subnetwork are produced using Google Gemini.\",\n",
    ") %}\n",
    "\n",
    "{% set name = StringField(\n",
    "  name='name',\n",
    "  label='Your Name',\n",
    "  default='Nobody',\n",
    "  section='primary',\n",
    ") %}"
   ],
   "outputs": [],
   "metadata": {}
  },
  {
   "cell_type": "code",
   "execution_count": null,
   "source": [
    "%%appyter code_exec\n",
    "\n",
    "print(\"Hello {}!\".format({{ name }}))"
   ],
   "outputs": [],
   "metadata": {}
  }
 ],
 "metadata": {
  "file_extension": ".py",
  "kernelspec": {
   "display_name": "Python 3",
   "language": "python",
   "name": "python3"
  },
  "language_info": {
   "codemirror_mode": {
    "name": "ipython",
    "version": 3
   },
   "file_extension": ".py",
   "mimetype": "text/x-python",
   "name": "python",
   "nbconvert_exporter": "python",
   "pygments_lexer": "ipython3",
   "version": "3.9.6"
  },
  "mimetype": "text/x-python",
  "name": "python",
  "npconvert_exporter": "python",
  "pygments_lexer": "ipython2",
  "version": 2
 },
 "nbformat": 4,
 "nbformat_minor": 2
}